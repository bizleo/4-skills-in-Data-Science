{
 "cells": [
  {
   "cell_type": "code",
   "execution_count": 1,
   "metadata": {},
   "outputs": [],
   "source": [
    "import requests\n",
    "import pandas as pd\n",
    "from bs4 import BeautifulSoup as soup"
   ]
  },
  {
   "cell_type": "code",
   "execution_count": 2,
   "metadata": {},
   "outputs": [
    {
     "data": {
      "text/plain": [
       "403"
      ]
     },
     "execution_count": 2,
     "metadata": {},
     "output_type": "execute_result"
    }
   ],
   "source": [
    "html = requests.get('https://www.happycow.net/searchmap/?s=3&location=dresden&metric=mi&limit=81&order=default&lat=51.0504&lng=13.7373&zoom=11&page=1')\n",
    "html.status_code"
   ]
  },
  {
   "cell_type": "code",
   "execution_count": 3,
   "metadata": {},
   "outputs": [
    {
     "name": "stdout",
     "output_type": "stream",
     "text": [
      "<html style=\"height:100%\"><head><meta content=\"NOINDEX, NOFOLLOW\" name=\"ROBOTS\"/><meta content=\"telephone=no\" name=\"format-detection\"/><meta content=\"initial-scale=1.0\" name=\"viewport\"/><meta content=\"IE=edge,chrome=1\" http-equiv=\"X-UA-Compatible\"/></head><body style=\"margin:0px;height:100%\"><iframe frameborder=\"0\" height=\"100%\" id=\"main-iframe\" marginheight=\"0px\" marginwidth=\"0px\" src=\"/_Incapsula_Resource?CWUDNSAI=23&amp;xinfo=12-121822597-0%200NNN%20RT%281642504688210%2053%29%20q%280%20-1%20-1%20-1%29%20r%280%20-1%29%20B15%284%2c200%2c0%29%20U18&amp;incident_id=7228000330249152064-496808827631175756&amp;edet=15&amp;cinfo=04000000&amp;rpinfo=0&amp;mth=GET\" width=\"100%\">Request unsuccessful. Incapsula incident ID: 7228000330249152064-496808827631175756</iframe></body></html>\n"
     ]
    }
   ],
   "source": [
    "bs = soup(html.content, 'lxml')\n",
    "print(bs)"
   ]
  },
  {
   "cell_type": "code",
   "execution_count": 4,
   "metadata": {},
   "outputs": [
    {
     "data": {
      "text/plain": [
       "[]"
      ]
     },
     "execution_count": 4,
     "metadata": {},
     "output_type": "execute_result"
    }
   ],
   "source": [
    "links =[]\n",
    "\n",
    "for review in bs.findAll('a',{'class':'thumbnail-link'}):\n",
    "    a = review['href']\n",
    "    a = 'https://www.happycow.net/'+ a \n",
    "    print(a)\n",
    "    \n",
    "    links.append(a)\n",
    "links\n",
    "    "
   ]
  },
  {
   "cell_type": "code",
   "execution_count": null,
   "metadata": {},
   "outputs": [],
   "source": []
  },
  {
   "cell_type": "code",
   "execution_count": null,
   "metadata": {},
   "outputs": [],
   "source": []
  },
  {
   "cell_type": "code",
   "execution_count": null,
   "metadata": {},
   "outputs": [],
   "source": []
  },
  {
   "cell_type": "code",
   "execution_count": null,
   "metadata": {},
   "outputs": [],
   "source": []
  },
  {
   "cell_type": "code",
   "execution_count": null,
   "metadata": {},
   "outputs": [],
   "source": []
  },
  {
   "cell_type": "code",
   "execution_count": null,
   "metadata": {},
   "outputs": [],
   "source": []
  },
  {
   "cell_type": "code",
   "execution_count": null,
   "metadata": {},
   "outputs": [],
   "source": []
  }
 ],
 "metadata": {
  "kernelspec": {
   "display_name": "Python 3",
   "language": "python",
   "name": "python3"
  },
  "language_info": {
   "codemirror_mode": {
    "name": "ipython",
    "version": 3
   },
   "file_extension": ".py",
   "mimetype": "text/x-python",
   "name": "python",
   "nbconvert_exporter": "python",
   "pygments_lexer": "ipython3",
   "version": "3.8.5"
  }
 },
 "nbformat": 4,
 "nbformat_minor": 4
}
